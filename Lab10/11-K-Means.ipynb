{
 "cells": [
  {
   "cell_type": "markdown",
   "metadata": {},
   "source": [
    "Before you turn this problem in, make sure everything runs as expected. First, **restart the kernel** (in the menubar, select Kernel$\\rightarrow$Restart) and then **run all cells** (in the menubar, select Cell$\\rightarrow$Run All).\n",
    "\n",
    "Make sure you fill in any place that says `YOUR CODE HERE` or \"YOUR ANSWER HERE\", as well as your name and collaborators below:"
   ]
  },
  {
   "cell_type": "code",
   "execution_count": null,
   "metadata": {},
   "outputs": [],
   "source": [
    "NAME = \"\"\n",
    "ID = \"\""
   ]
  },
  {
   "cell_type": "markdown",
   "metadata": {},
   "source": [
    "---"
   ]
  },
  {
   "cell_type": "markdown",
   "metadata": {
    "id": "l234KSU4YEIY"
   },
   "source": [
    "# Lab 11: Unsupervised Learning with $k$-means\n",
    "\n",
    "In this lab, we begin our survey of common unsupervised learning methods."
   ]
  },
  {
   "cell_type": "markdown",
   "metadata": {},
   "source": [
    "## Supervised vs. Unsupervised Learning\n",
    "\n",
    "As we know, in the supervised setting, we are presented with a set of training pairs $(\\mathbf{x}^{(i)},y^{(i)}), \\mathbf{x}^{(i)} \\in {\\cal X}, y^{(i)} \\in {\\cal Y},\n",
    "i \\in 1..m$,\n",
    "where typically ${\\cal X} = \\mathbb{R}^n$ and either ${\\cal Y} = \\mathbb{R}$ (regression) or ${\\cal Y} = \\{ 1, \\ldots, k \\}$ (classification). The goal is, given a new\n",
    "$\\mathbf{x} \\in {\\cal X}$ to come up with the best possible prediction $\\hat{y} \\in {\\cal Y}$ corresponding to $\\mathbf{x}$ or a set of predicted probabilities\n",
    "$p(y=y_i \\mid \\mathbf{x}), i \\in \\{1, \\ldots, k\\}$.\n",
    "\n",
    "In the *unsupervised setting*, we are presented with a set of training items $\\mathbf{x}^{(i)} \\in {\\cal X}$ without any labels or targets. The goal is generally to\n",
    "understand, given a new $\\mathbf{x} \\in {\\cal X}$, the relationship of $\\mathbf{x}$ with the training examples $\\mathbf{x}^{(i)}$.\n",
    "\n",
    "The phrase *understand the relationship* can mean many different things depending on the problem setting. Among the most common specific goals is *clustering*, in which\n",
    "we map the training data to $K$ *clusters*, then, given $\\mathbf{x}$, find the most similar cluster $c \\in \\{1,\\ldots,K\\}$.\n",
    "\n",
    "## $k$-means Clustering\n",
    "\n",
    "Clustering is the most common unsupervised learning problem, and $k$-means is the most frequently used clustering algorithm. $k$-means is suitable when \n",
    "${\\cal X} = \\mathbb{R}^n$ and Euclidean distance is a reasonable model of dissimilarity between items in ${\\cal X}$.\n",
    "\n",
    "The algorithm is very simple:\n",
    "1. Randomly initialize $k$ cluster centroids $\\mu_1, \\ldots, \\mu_k \\in \\mathbb{R}^n$.\n",
    "2. Repeat until convergence:\n",
    "  1. For $i \\in 1..m, c^{(i)} \\leftarrow \\text{argmin}_j \\| \\mathbf{x}^{(i)} - \\mu_j \\|^2.$\n",
    "  2. For $j \\in 1..k,$\n",
    "     $$ \\mu_j \\leftarrow \\frac{\\sum_{i=1}^m \\delta(c^{(i)} = j)\\mathbf{x}^{(i)}}{\\sum_{i=1}^m \\delta(c^{(i)}=j)}$$"
   ]
  },
  {
   "cell_type": "markdown",
   "metadata": {},
   "source": [
    "## In-Lab Exercise With Synthetic Data\n",
    "\n",
    "In this exercise, you will\n",
    "write Python code to generate 100 examples from each of three different well-separated 2D Gaussian distributions. Then you'll plot the data, initialize three arbitrary means,\n",
    "and animate the process of iterative cluster assignment and cluster mean assignment.\n",
    "\n",
    "<details>\n",
    "    <summary><font size=\"3\" color=\"green\"><b>Hint:</b></font></summary>\n",
    "    There is a naive implementation of the algorithm in this notebook below. You can use it as\n",
    "    a beginning point or make your own implementation from scratch.\n",
    "</details>"
   ]
  },
  {
   "cell_type": "markdown",
   "metadata": {
    "deletable": false,
    "editable": false,
    "nbgrader": {
     "cell_type": "markdown",
     "checksum": "d55049b82b6b64926b565fa92a36f51f",
     "grade": false,
     "grade_id": "cell-49cac69b19ed50f9",
     "locked": true,
     "schema_version": 3,
     "solution": false,
     "task": false
    }
   },
   "source": [
    "### Exercise 1.1 (5 points)\n",
    "\n",
    "Generate 100 examples from each of **three different well-separated 2D Gaussian distributions**.\n",
    "\n",
    "<details>\n",
    "    <summary><font size=\"3\" color=\"green\"><b>Hint:</b></font></summary>\n",
    "    You can use the\n",
    "    <a href=\"https://scikit-learn.org/stable/modules/generated/sklearn.datasets.make_blobs.html\">make_blobs</a>\n",
    "    function from sklearn to synthesize the dataset,\n",
    "    or you can do it yourself with `np.random.multivariate_normal`. :)\n",
    "</details>"
   ]
  },
  {
   "cell_type": "code",
   "execution_count": null,
   "metadata": {
    "deletable": false,
    "nbgrader": {
     "cell_type": "code",
     "checksum": "aaa1a93d1fca592c5e7de03cae96d6ee",
     "grade": false,
     "grade_id": "cell-dad4cf18e11798ba",
     "locked": false,
     "schema_version": 3,
     "solution": true,
     "task": false
    }
   },
   "outputs": [],
   "source": [
    "X=None\n",
    "y=None\n",
    "\n",
    "# YOUR CODE HERE\n",
    "raise NotImplementedError()"
   ]
  },
  {
   "cell_type": "code",
   "execution_count": null,
   "metadata": {
    "deletable": false,
    "editable": false,
    "nbgrader": {
     "cell_type": "code",
     "checksum": "2edb192824686728dc86b0796149052c",
     "grade": true,
     "grade_id": "cell-b477d6ac4369bc4f",
     "locked": true,
     "points": 5,
     "schema_version": 3,
     "solution": false,
     "task": false
    }
   },
   "outputs": [],
   "source": [
    "import numpy as np\n",
    "print('X.shape', X.shape)\n",
    "print('y.shape', y.shape)\n",
    "print('X=\\n', X[:5])\n",
    "print('y=\\n', y[:5])\n",
    "\n",
    "print(y.min(), y.max())\n",
    "print(len(np.unique(y)))\n",
    "\n",
    "# Test function: Do not remove\n",
    "assert X.shape == (300, 2), 'Size of X is incorrect'\n",
    "assert y.shape == (300,) or y.shape == 300 or y.shape == (300,1), 'Size of y is incorrect'\n",
    "assert len(np.unique(y)) == 3, 'Number groups of samples are incorrect'\n",
    "for i in np.unique(y):\n",
    "    assert isinstance(i, np.int64) or isinstance(i, int), 'group type is incorrect'\n",
    "\n",
    "print(\"success!\")\n",
    "# End Test function"
   ]
  },
  {
   "cell_type": "markdown",
   "metadata": {
    "deletable": false,
    "editable": false,
    "nbgrader": {
     "cell_type": "markdown",
     "checksum": "5e7722f7f666b16dd11c35bee8c7281d",
     "grade": false,
     "grade_id": "cell-1419ee66c7451f05",
     "locked": true,
     "schema_version": 3,
     "solution": false,
     "task": false
    }
   },
   "source": [
    "### Exercise 1.2 (5 points)\n",
    "\n",
    "Plot the data, separating the clusters by color."
   ]
  },
  {
   "cell_type": "code",
   "execution_count": null,
   "metadata": {
    "deletable": false,
    "nbgrader": {
     "cell_type": "code",
     "checksum": "faafff65e6a8dd906f4fe5f1a63fc84a",
     "grade": true,
     "grade_id": "cell-e88a710b5e97f634",
     "locked": false,
     "points": 5,
     "schema_version": 3,
     "solution": true,
     "task": false
    }
   },
   "outputs": [],
   "source": [
    "import matplotlib.pyplot as plt\n",
    "\n",
    "# YOUR CODE HERE\n",
    "raise NotImplementedError()"
   ]
  },
  {
   "attachments": {
    "lab10-1.png": {
     "image/png": "[encoded data removed]"
    }
   },
   "cell_type": "markdown",
   "metadata": {
    "deletable": false,
    "editable": false,
    "nbgrader": {
     "cell_type": "markdown",
     "checksum": "63937c157186f8b09979a9534bed3c05",
     "grade": false,
     "grade_id": "cell-dace4e39d771f951",
     "locked": true,
     "schema_version": 3,
     "solution": false,
     "task": false
    }
   },
   "source": [
    "**Expected result** (or similar):\n",
    "\n",
    "![lab10-1.png](attachment:lab10-1.png)"
   ]
  },
  {
   "cell_type": "markdown",
   "metadata": {
    "deletable": false,
    "editable": false,
    "nbgrader": {
     "cell_type": "markdown",
     "checksum": "bbddfb21191691cb213b749b15d9461d",
     "grade": false,
     "grade_id": "cell-ab07c8ba2dfba185",
     "locked": true,
     "schema_version": 3,
     "solution": false,
     "task": false
    }
   },
   "source": [
    "### Exercise 1.3 (20 points)\n",
    "\n",
    "Initialize three arbitrary means, and animate the process of iterative cluster assignment and cluster mean assignment."
   ]
  },
  {
   "cell_type": "code",
   "execution_count": null,
   "metadata": {
    "deletable": false,
    "nbgrader": {
     "cell_type": "code",
     "checksum": "6361262ab1d28b20fec1fd0dca6e5308",
     "grade": true,
     "grade_id": "cell-ffe4904cd5e3fff4",
     "locked": false,
     "points": 15,
     "schema_version": 3,
     "solution": true,
     "task": false
    }
   },
   "outputs": [],
   "source": [
    "import numpy as np\n",
    "from IPython.display import clear_output\n",
    "import time\n",
    "\n",
    "# 1. Initialize three random cluster centers\n",
    "\n",
    "centers = None\n",
    "\n",
    "while True:\n",
    "\n",
    "    # 2. Find the nearest cluster center for each point\n",
    "    \n",
    "    # 3. Plot the data showing the cluster centers. Do not forget to use clear_output.\n",
    "    \n",
    "    # 4. Find the mean of the points assigned to each cluster center\n",
    "    \n",
    "    # 5. Calculate the sum squared error between the currently assigned points' mean\n",
    "    #    and the current center. If this error is less than 1e-6, stop the loop.\n",
    "\n",
    "    error = 0\n",
    "    if error < 1e-6:\n",
    "        break\n",
    "    \n",
    "    time.sleep(0.3)\n",
    "\n",
    "# YOUR CODE HERE\n",
    "raise NotImplementedError()"
   ]
  },
  {
   "cell_type": "code",
   "execution_count": null,
   "metadata": {
    "deletable": false,
    "editable": false,
    "nbgrader": {
     "cell_type": "code",
     "checksum": "ebc8f591f845d438fc853e9f7d6d964a",
     "grade": true,
     "grade_id": "cell-30a3432d408b9752",
     "locked": true,
     "points": 5,
     "schema_version": 3,
     "solution": false,
     "task": false
    }
   },
   "outputs": [],
   "source": [
    "print(centers)\n",
    "\n",
    "# Test function: Do not remove\n",
    "assert centers.shape == (2, 3) or centers.shape == (3, 2), 'Size of centers is incorrect'\n",
    "\n",
    "print(\"success!\")\n",
    "# End Test function"
   ]
  },
  {
   "attachments": {
    "lab10-2.gif": {
     "image/gif": "[encoded data removed]"
    }
   },
   "cell_type": "markdown",
   "metadata": {
    "deletable": false,
    "editable": false,
    "nbgrader": {
     "cell_type": "markdown",
     "checksum": "ac7f2b12085e8490dd4d2c83fba63671",
     "grade": false,
     "grade_id": "cell-52c3c2096174c080",
     "locked": true,
     "schema_version": 3,
     "solution": false,
     "task": false
    }
   },
   "source": [
    "**Expected result** (or similar):\n",
    "\n",
    "![lab10-2.gif](attachment:lab10-2.gif)"
   ]
  },
  {
   "cell_type": "markdown",
   "metadata": {},
   "source": [
    "## Example with Kaggle Customer Segmentation Data\n",
    "\n",
    "This example is based on the [Kaggle Mall Customers Dataset](https://www.kaggle.com/vjchoudhary7/customer-segmentation-tutorial-in-python) and [Caner Dabakoglu's](https://www.kaggle.com/cdabakoglu) tutorial on the dataset. The goal is customer segmentation.\n",
    "\n",
    "The dataset has 5 columns, `CustomerID`, `Gender`, `Age`, `Annual Income`, and `Spending score`.\n",
    "We will use three of these variables, namely `Age`, `Annual Income`, and `Spending score` for segmenting customers.\n",
    "(Give some thought to why we don't use `CustomerID` or `Gender`.)\n",
    "\n",
    "First, let's import some libraries:"
   ]
  },
  {
   "cell_type": "code",
   "execution_count": null,
   "metadata": {
    "id": "3RWiPTmTYEIa"
   },
   "outputs": [],
   "source": [
    "import numpy as np\n",
    "import pandas as pd\n",
    "import matplotlib.pyplot as plt\n",
    "import seaborn as sns\n",
    "from mpl_toolkits.mplot3d import Axes3D\n",
    "import matplotlib.pyplot as plt\n",
    "import warnings\n",
    "warnings.filterwarnings(\"ignore\")"
   ]
  },
  {
   "cell_type": "markdown",
   "metadata": {},
   "source": [
    "Next we read the data set and print out some information about it."
   ]
  },
  {
   "cell_type": "code",
   "execution_count": null,
   "metadata": {
    "id": "6k7Dd8-4YEIe",
    "outputId": "8b5bb622-053a-4969-9c79-8cd2658dfe8d"
   },
   "outputs": [],
   "source": [
    "df = pd.read_csv(\"Mall_Customers.csv\")\n",
    "\n",
    "print('Dataset information:\\n')\n",
    "df.info()\n",
    "print('\\nDataset head (first five rows):\\n')\n",
    "df.head()"
   ]
  },
  {
   "cell_type": "markdown",
   "metadata": {},
   "source": [
    "Let's drop the `CustomerID` column, as it's not useful."
   ]
  },
  {
   "cell_type": "code",
   "execution_count": null,
   "metadata": {
    "id": "WbWUAMigYEIl",
    "outputId": "322adb34-d716-4b01-d31b-5ac29989536c"
   },
   "outputs": [],
   "source": [
    "df.drop([\"CustomerID\"], axis = 1, inplace=True)"
   ]
  },
  {
   "cell_type": "markdown",
   "metadata": {},
   "source": [
    "Next, let's visualize the marginal distribution over each variable, to get an idea of how cohesive they are. We can see that the variables are not\n",
    "quite Gaussian and have some skew:"
   ]
  },
  {
   "cell_type": "code",
   "execution_count": null,
   "metadata": {},
   "outputs": [],
   "source": [
    "sns.displot(df.Age)\n",
    "_ = plt.title('Customer Age distribution')"
   ]
  },
  {
   "cell_type": "code",
   "execution_count": null,
   "metadata": {},
   "outputs": [],
   "source": [
    "sns.displot(df['Spending Score (1-100)'])\n",
    "_ = plt.title('Customer Spending Score distribution')"
   ]
  },
  {
   "cell_type": "code",
   "execution_count": null,
   "metadata": {},
   "outputs": [],
   "source": [
    "sns.displot(df['Annual Income (k$)'])\n",
    "_ = plt.title('Customer Income distribution')"
   ]
  },
  {
   "cell_type": "markdown",
   "metadata": {},
   "source": [
    "Next, let's make a 3D scatter plot of the relevant variables:"
   ]
  },
  {
   "cell_type": "code",
   "execution_count": null,
   "metadata": {
    "id": "SVwYq-aYYEI6",
    "outputId": "248e9978-c968-43fd-e046-821c7ac42eb5"
   },
   "outputs": [],
   "source": [
    "sns.set_style(\"white\")\n",
    "fig = plt.figure(figsize=(10,10))\n",
    "ax = fig.add_subplot(111, projection='3d')\n",
    "ax.scatter(df.Age, df[\"Annual Income (k$)\"], df[\"Spending Score (1-100)\"], c='blue', s=60)\n",
    "ax.view_init(0, 45)\n",
    "plt.xlabel(\"Age\")\n",
    "plt.ylabel(\"Annual Income (k$)\")\n",
    "ax.set_zlabel('Spending Score (1-100)')\n",
    "plt.show()"
   ]
  },
  {
   "cell_type": "markdown",
   "metadata": {},
   "source": [
    "Next, let's implement $k$-means:"
   ]
  },
  {
   "cell_type": "code",
   "execution_count": null,
   "metadata": {
    "id": "viPy3plWYEI9",
    "outputId": "0e4b5467-6b91-4138-c68d-d8da8bd02803"
   },
   "outputs": [],
   "source": [
    "# Initialize a k-means model given a dataset\n",
    "\n",
    "def init_kmeans(X, k):\n",
    "    m = X.shape[0]\n",
    "    n = X.shape[1]\n",
    "    means = np.zeros((k,n))\n",
    "    order = np.random.permutation(m)[:k]\n",
    "    for i in range(k):\n",
    "        means[i,:] = X[order[i],:]\n",
    "    return means\n",
    "\n",
    "# Run one iteration of k-means\n",
    "\n",
    "def iterate_kmeans(X, means):\n",
    "    m = X.shape[0]\n",
    "    n = X.shape[1]\n",
    "    k = means.shape[0]\n",
    "    distortion = np.zeros(m)\n",
    "    c = np.zeros(m)\n",
    "    for i in range(m):\n",
    "        min_j = 0\n",
    "        min_dist = 0\n",
    "        for j in range(k):\n",
    "            dist_j = np.linalg.norm(X[i,:] - means[j,:])\n",
    "            if dist_j < min_dist or j == 0:\n",
    "                min_dist = dist_j\n",
    "                min_j = j\n",
    "        distortion[i] = min_dist\n",
    "        c[i] = min_j\n",
    "    for j in range(k):\n",
    "        means[j,:] = np.zeros((1,n))\n",
    "        nj = 0\n",
    "        for i in range(m):\n",
    "            if c[i] == j:\n",
    "                nj = nj + 1\n",
    "                means[j,:] = means[j,:] + X[i,:]\n",
    "        if nj > 0:\n",
    "            means[j,:] = means[j,:] / nj\n",
    "    return means, c, np.sum(distortion)"
   ]
  },
  {
   "cell_type": "markdown",
   "metadata": {},
   "source": [
    "Let's build models with $k \\in 1..20$, plot the distortion for each $k$, and try to choose a good value for $k$ using the so-called \"elbow method.\""
   ]
  },
  {
   "cell_type": "code",
   "execution_count": null,
   "metadata": {
    "id": "olgPldnxYEJB",
    "outputId": "45361b30-86c9-4468-ebbc-81a8413d6004"
   },
   "outputs": [],
   "source": [
    "# Convert dataframe to matrix\n",
    "\n",
    "X = np.array(df.iloc[:,1:])\n",
    "\n",
    "# Intialize hyperparameters\n",
    "\n",
    "max_k = 20\n",
    "epsilon = 0.001\n",
    "\n",
    "# For each value of k, do one run and record the resulting cost (Euclidean distortion)\n",
    "\n",
    "distortions = np.zeros(max_k)\n",
    "for k in range(1, max_k + 1):\n",
    "    means = init_kmeans(X, k)\n",
    "    prev_distortion = 0\n",
    "    while True:\n",
    "        means, c, distortion = iterate_kmeans(X, means)\n",
    "        if prev_distortion > 0 and prev_distortion - distortion < epsilon:\n",
    "            break\n",
    "        prev_distortion = distortion\n",
    "    distortions[k-1] = distortion\n",
    "\n",
    "# Plot distortion as function of k\n",
    "\n",
    "plt.figure(figsize=(16,8))\n",
    "plt.plot(range(1,max_k+1), distortions, 'bx-')\n",
    "plt.xlabel('k')\n",
    "plt.ylabel('Distortion')\n",
    "plt.title('k-means distortion as a function of k')\n",
    "plt.show()"
   ]
  },
  {
   "cell_type": "markdown",
   "metadata": {
    "id": "olgPldnxYEJB",
    "outputId": "45361b30-86c9-4468-ebbc-81a8413d6004"
   },
   "source": [
    "Read about the so-called \"elbow method\" in [Wikipedia](https://en.wikipedia.org/wiki/Elbow_method_(clustering)). Note what it says,\n",
    "that \"In practice there may not be a sharp elbow, and as a heuristic method, such an 'elbow' cannot always be unambiguously identified.\" \n",
    "\n",
    "Do you see a unique elbow in the distortion plot above?\n",
    "\n",
    "Note that the results are somewhat noisy, being dependent on initial conditions.\n",
    "\n",
    "Here's a visualization of the results for three clusters:"
   ]
  },
  {
   "cell_type": "code",
   "execution_count": null,
   "metadata": {
    "id": "olgPldnxYEJB",
    "outputId": "45361b30-86c9-4468-ebbc-81a8413d6004"
   },
   "outputs": [],
   "source": [
    "# Re-run k-means with k=3\n",
    "\n",
    "k = 3\n",
    "means = init_kmeans(X, k)\n",
    "prev_distortion = 0\n",
    "while True:\n",
    "    means, c, distortion = iterate_kmeans(X, means)\n",
    "    if prev_distortion > 0 and prev_distortion - distortion < epsilon:\n",
    "        break\n",
    "    prev_distortion = distortion\n",
    "    \n",
    "# Set labels in dataset to cluster IDs according to k-means model.\n",
    "\n",
    "df[\"label\"] = c\n",
    "\n",
    "# Plot the data\n",
    "\n",
    "fig = plt.figure(figsize=(10,10))\n",
    "ax = fig.add_subplot(111, projection='3d')\n",
    "ax.scatter(df.Age[df.label == 0], df[\"Annual Income (k$)\"][df.label == 0], df[\"Spending Score (1-100)\"][df.label == 0], c='blue', s=60)\n",
    "ax.scatter(df.Age[df.label == 1], df[\"Annual Income (k$)\"][df.label == 1], df[\"Spending Score (1-100)\"][df.label == 1], c='red', s=60)\n",
    "ax.scatter(df.Age[df.label == 2], df[\"Annual Income (k$)\"][df.label == 2], df[\"Spending Score (1-100)\"][df.label == 2], c='green', s=60)\n",
    "\n",
    "# For 5 clusters, you can uncomment the following two lines.\n",
    "\n",
    "#ax.scatter(df.Age[df.label == 3], df[\"Annual Income (k$)\"][df.label == 3], df[\"Spending Score (1-100)\"][df.label == 3], c='orange', s=60)\n",
    "#ax.scatter(df.Age[df.label == 4], df[\"Annual Income (k$)\"][df.label == 4], df[\"Spending Score (1-100)\"][df.label == 4], c='purple', s=60)\n",
    "\n",
    "ax.view_init(0, 45)\n",
    "plt.xlabel(\"Age\")\n",
    "plt.ylabel(\"Annual Income (k$)\")\n",
    "ax.set_zlabel('Spending Score (1-100)')\n",
    "plt.title('Customer segments (k=3)')\n",
    "plt.show()"
   ]
  },
  {
   "cell_type": "markdown",
   "metadata": {},
   "source": [
    "## In-Lab Exercise 2\n",
    "\n",
    "In this exercise we'll try to understand the three clusters above and also do a better job with the elbow plot.\n"
   ]
  },
  {
   "cell_type": "markdown",
   "metadata": {
    "deletable": false,
    "editable": false,
    "nbgrader": {
     "cell_type": "markdown",
     "checksum": "1d77efc8778510852188c2bd4f67c25a",
     "grade": false,
     "grade_id": "cell-0a4eca7fb35e347f",
     "locked": true,
     "schema_version": 3,
     "solution": false,
     "task": false
    }
   },
   "source": [
    "### Exercise 2.1 (10 points)\n",
    "\n",
    "Consider the three cluster centers above. Look at the three means closely and come up with English descriptions of each cluster from a business point of view. Label the clusters in the visualization accordingly."
   ]
  },
  {
   "cell_type": "code",
   "execution_count": null,
   "metadata": {
    "deletable": false,
    "nbgrader": {
     "cell_type": "code",
     "checksum": "eb73cd1608c628bfaeddeac00a802de8",
     "grade": true,
     "grade_id": "cell-c62fc7b61edc2364",
     "locked": false,
     "points": 10,
     "schema_version": 3,
     "solution": true,
     "task": false
    }
   },
   "outputs": [],
   "source": [
    "# YOUR CODE HERE\n",
    "raise NotImplementedError()"
   ]
  },
  {
   "cell_type": "markdown",
   "metadata": {
    "deletable": false,
    "editable": false,
    "nbgrader": {
     "cell_type": "markdown",
     "checksum": "69f09486c7893a41384d783c37c8fe5a",
     "grade": false,
     "grade_id": "cell-9a915a05d12cab2b",
     "locked": true,
     "schema_version": 3,
     "solution": false,
     "task": false
    }
   },
   "source": [
    "### Exercise 2.2 (20 points)\n",
    "\n",
    "Note that the distortion plot is quite noisy due to random initial conditions. Modify the optimization to perform, for each $k$, several different runs, and take the minimum distortion over those runs. Re-plot the distortion plot and see if an \"elbow\" is more prominent."
   ]
  },
  {
   "cell_type": "code",
   "execution_count": null,
   "metadata": {
    "deletable": false,
    "nbgrader": {
     "cell_type": "code",
     "checksum": "f17e09b299c7b2aa1fff15ac717adea9",
     "grade": true,
     "grade_id": "cell-8cfde2e2cde6c3a4",
     "locked": false,
     "points": 20,
     "schema_version": 3,
     "solution": true,
     "task": false
    }
   },
   "outputs": [],
   "source": [
    "# YOUR CODE HERE\n",
    "raise NotImplementedError()"
   ]
  },
  {
   "cell_type": "markdown",
   "metadata": {},
   "source": [
    "## K-Means in PyTorch\n",
    "\n",
    "Now, to get more experience with PyTorch, let's do the same thing with the library. First, some imports. You may need to install some packages for this to work:\n",
    "\n",
    "    pip install kmeans-pytorch\n",
    "    pip install tqdm\n",
    "    \n",
    "First, import the libraries:"
   ]
  },
  {
   "cell_type": "code",
   "execution_count": null,
   "metadata": {},
   "outputs": [],
   "source": [
    "!http_proxy=http://192.41.170.23:3128 https_proxy=http://192.41.170.23:3128 pip install kmeans-pytorch\n",
    "!http_proxy=http://192.41.170.23:3128 https_proxy=http://192.41.170.23:3128 pip install tqdm"
   ]
  },
  {
   "cell_type": "code",
   "execution_count": null,
   "metadata": {
    "id": "UNY3fRPvYEJP"
   },
   "outputs": [],
   "source": [
    "import torch\n",
    "from kmeans_pytorch import kmeans"
   ]
  },
  {
   "cell_type": "code",
   "execution_count": null,
   "metadata": {},
   "outputs": [],
   "source": [
    "x = torch.from_numpy(X)\n",
    "device = 'cuda:0'\n",
    "device = 'cpu'\n",
    "c, means = kmeans(X=x, num_clusters=3, distance='euclidean', device=torch.device(device))\n",
    "df[\"label\"] = c"
   ]
  },
  {
   "cell_type": "code",
   "execution_count": null,
   "metadata": {
    "id": "2y_csPLjYEJS",
    "outputId": "a83b5fc5-ead3-4023-e76b-0ff14a8b79a6"
   },
   "outputs": [],
   "source": [
    "fig = plt.figure(figsize=(10,10))\n",
    "ax = fig.add_subplot(111, projection='3d')\n",
    "ax.scatter(df.Age[df.label == 0], df[\"Annual Income (k$)\"][df.label == 0], df[\"Spending Score (1-100)\"][df.label == 0], c='blue', s=60)\n",
    "ax.scatter(df.Age[df.label == 1], df[\"Annual Income (k$)\"][df.label == 1], df[\"Spending Score (1-100)\"][df.label == 1], c='red', s=60)\n",
    "ax.scatter(df.Age[df.label == 2], df[\"Annual Income (k$)\"][df.label == 2], df[\"Spending Score (1-100)\"][df.label == 2], c='green', s=60)\n",
    "#ax.scatter(df.Age[df.label == 3], df[\"Annual Income (k$)\"][df.label == 3], df[\"Spending Score (1-100)\"][df.label == 3], c='orange', s=60)\n",
    "#ax.scatter(df.Age[df.label == 4], df[\"Annual Income (k$)\"][df.label == 4], df[\"Spending Score (1-100)\"][df.label == 4], c='purple', s=60)\n",
    "ax.view_init(0, 45)\n",
    "plt.xlabel(\"Age\")\n",
    "plt.ylabel(\"Annual Income (k$)\")\n",
    "ax.set_zlabel('Spending Score (1-100)')\n",
    "plt.title('Customer Segments (PyTorch k=3)')\n",
    "plt.show()"
   ]
  },
  {
   "cell_type": "markdown",
   "metadata": {
    "deletable": false,
    "editable": false,
    "nbgrader": {
     "cell_type": "markdown",
     "checksum": "4c13758bcdc5dc4cfc7d644a6e4d2eea",
     "grade": false,
     "grade_id": "cell-957a56e6e07e36f7",
     "locked": true,
     "points": 40,
     "schema_version": 3,
     "solution": false,
     "task": true
    }
   },
   "source": [
    "## Take-Home Exercise\n",
    "\n",
    "Find an interesting dataset for unsupervised learning, prepare the data, and run $k$-means on it.\n",
    "\n",
    "In a brief report, describe your in-lab and take home experiments and their results."
   ]
  },
  {
   "cell_type": "code",
   "execution_count": null,
   "metadata": {},
   "outputs": [],
   "source": []
  }
 ],
 "metadata": {
  "colab": {
   "name": "Customer Segmentation in Python.ipynb",
   "provenance": []
  },
  "kernelspec": {
   "display_name": "Python 3 (ipykernel)",
   "language": "python",
   "name": "python3"
  },
  "language_info": {
   "codemirror_mode": {
    "name": "ipython",
    "version": 3
   },
   "file_extension": ".py",
   "mimetype": "text/x-python",
   "name": "python",
   "nbconvert_exporter": "python",
   "pygments_lexer": "ipython3",
   "version": "3.9.7"
  }
 },
 "nbformat": 4,
 "nbformat_minor": 4
}
